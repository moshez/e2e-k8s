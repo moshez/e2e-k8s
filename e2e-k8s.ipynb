{
 "cells": [
  {
   "cell_type": "markdown",
   "metadata": {},
   "source": [
    "```{=latex}\n",
    "\\usepackage{hyperref}\n",
    "\\usepackage{graphicx}\n",
    "\\usepackage{listings}\n",
    "\\usepackage{textcomp}\n",
    "\\usepackage{fancyvrb}\n",
    "\n",
    "\\newcommand{\\passthrough}[1]{\\lstset{mathescape=false}#1\\lstset{mathescape=true}}\n",
    "\\newcommand{\\tightlist}{}\n",
    "```"
   ]
  },
  {
   "cell_type": "markdown",
   "metadata": {},
   "source": [
    "```{=latex}\n",
    "\\title{End-to-End Kubernetes}\n",
    "\\author{Moshe Zadka -- https://cobordism.com}\n",
    "\\date{}\n",
    "\n",
    "\\begin{document}\n",
    "\\begin{titlepage}\n",
    "\\maketitle\n",
    "\\end{titlepage}\n",
    "\n",
    "\\frame{\\titlepage}\n",
    "```"
   ]
  },
  {
   "cell_type": "markdown",
   "metadata": {},
   "source": [
    "```{=latex}\n",
    "\\begin{frame}\n",
    "\\frametitle{Acknowledgement of Country}\n",
    "\n",
    "Belmont (in San Francisco Bay Area Peninsula)\n",
    "\n",
    "Ancestral homeland of the Ramaytush Ohlone\n",
    "\n",
    "\\end{frame}\n",
    "```"
   ]
  },
  {
   "cell_type": "markdown",
   "metadata": {},
   "source": [
    "## Introduction"
   ]
  },
  {
   "cell_type": "markdown",
   "metadata": {},
   "source": [
    "### Examples as caricatures"
   ]
  },
  {
   "cell_type": "markdown",
   "metadata": {},
   "source": [
    "```{=latex}\n",
    "\\begin{frame}\n",
    "\\frametitle{Examples as Caricatures}\n",
    "\n",
    "Realistic exaggeration\n",
    "\n",
    "\\end{frame}\n",
    "```"
   ]
  },
  {
   "cell_type": "markdown",
   "metadata": {},
   "source": [
    "### Example application"
   ]
  },
  {
   "cell_type": "markdown",
   "metadata": {},
   "source": [
    "```{=latex}\n",
    "\\begin{frame}\n",
    "\\frametitle{A Caricature}\n",
    "```"
   ]
  },
  {
   "cell_type": "code",
   "execution_count": null,
   "metadata": {},
   "outputs": [],
   "source": [
    "# e2e_k8s/demo.py\n",
    "from pyramid import response, config, view\n",
    "@view.view_config(route_name='add')\n",
    "def add(request):\n",
    "    x, y = (int(request.matchdict[c]) for c in \"xy\")\n",
    "    return response.Response(str(x+y))\n",
    "with config.Configurator() as _cfg:\n",
    "    _cfg.add_route(\"add\", \"/add/{x}/{y}\")\n",
    "    _cfg.scan(\"e2e_k8s\")\n",
    "    application = _cfg.make_wsgi_app()\n"
   ]
  },
  {
   "cell_type": "markdown",
   "metadata": {},
   "source": [
    "```{=latex}\n",
    "\\end{frame}\n",
    "```"
   ]
  },
  {
   "cell_type": "markdown",
   "metadata": {},
   "source": [
    "### Software as a pipeline"
   ]
  },
  {
   "cell_type": "markdown",
   "metadata": {},
   "source": [
    "```{=latex}\n",
    "\\begin{frame}\n",
    "\\frametitle{Software as a Pipeline}\n",
    "\n",
    "Code $\\rightarrow$ Customer\n",
    "\n",
    "\\end{frame}\n",
    "```"
   ]
  },
  {
   "cell_type": "markdown",
   "metadata": {},
   "source": [
    "### Software as a leaky pipeline"
   ]
  },
  {
   "cell_type": "markdown",
   "metadata": {},
   "source": [
    "```{=latex}\n",
    "\\begin{frame}\n",
    "\\frametitle{Leaky Pipeline}\n",
    "\n",
    "Code\\pause\n",
    "\n",
    "Unit tests\\pause\n",
    "\n",
    "Running locally\\pause\n",
    "\n",
    "\"Simulation\" environments\\pause\n",
    "\n",
    "Production\\pause\n",
    "\n",
    "Customer\n",
    "\n",
    "\\end{frame}\n",
    "```"
   ]
  },
  {
   "cell_type": "markdown",
   "metadata": {},
   "source": [
    "```{=latex}\n",
    "\\begin{frame}\n",
    "\\frametitle{Leaky Pipeline}\n",
    "\n",
    "Leak:\\pause\n",
    "\n",
    "Problem happening at one stage but not the previous one\n",
    "\\end{frame}\n",
    "```"
   ]
  },
  {
   "cell_type": "markdown",
   "metadata": {},
   "source": [
    "### Goal: fixing leaks"
   ]
  },
  {
   "cell_type": "markdown",
   "metadata": {},
   "source": [
    "```{=latex}\n",
    "\\begin{frame}\n",
    "\\frametitle{Fixing Leaks}\n",
    "\n",
    "Less differences -- less leaks\n",
    "\\end{frame}\n",
    "```"
   ]
  },
  {
   "cell_type": "markdown",
   "metadata": {},
   "source": [
    "### Talk goal: Mental model"
   ]
  },
  {
   "cell_type": "markdown",
   "metadata": {},
   "source": [
    "```{=latex}\n",
    "\\begin{frame}\n",
    "\\frametitle{Model, Not Solutions}\n",
    "\n",
    "Hard problem to solve\\pause\n",
    "\n",
    "Better mental model for local solutions\n",
    "\n",
    "\\end{frame}\n",
    "```"
   ]
  },
  {
   "cell_type": "markdown",
   "metadata": {},
   "source": [
    "## Kubernetes Crash Course"
   ]
  },
  {
   "cell_type": "markdown",
   "metadata": {},
   "source": [
    "### What is kubernetes?"
   ]
  },
  {
   "cell_type": "markdown",
   "metadata": {},
   "source": [
    "```{=latex}\n",
    "\\begin{frame}\n",
    "\\frametitle{Kubernetes}\n",
    "\n",
    "Orchestration: Running containers on compute resources\n",
    "\n",
    "\\end{frame}\n",
    "```"
   ]
  },
  {
   "cell_type": "markdown",
   "metadata": {},
   "source": [
    "### Why is kubernetes popular?"
   ]
  },
  {
   "cell_type": "markdown",
   "metadata": {},
   "source": [
    "```{=latex}\n",
    "\\begin{frame}\n",
    "\\frametitle{Why Kubernetes?}\n",
    "\n",
    "\\begin{itemize}\n",
    "\\item Builds on containers\n",
    "\\item Documented REST API\n",
    "\\item Extensible\n",
    "\\end{itemize}\n",
    "\n",
    "\\end{frame}\n",
    "```"
   ]
  },
  {
   "cell_type": "markdown",
   "metadata": {},
   "source": [
    "### What is DevOps?"
   ]
  },
  {
   "cell_type": "markdown",
   "metadata": {},
   "source": [
    "```{=latex}\n",
    "\\begin{frame}\n",
    "\\frametitle{What is DevOps (Not?}}\n",
    "\n",
    "an engineering speciality\\pause\n",
    "\n",
    "\"developers should run their code\"\\pause\n",
    "\n",
    "\"no need for operations\"\\pause\n",
    "\n",
    "\"developers working for ops\"\\pause\n",
    "\n",
    "\"ops working for developers\"\\pause\n",
    "\n",
    "\\end{frame}\n",
    "\n",
    "\\begin{frame}\n",
    "\\frametitle{What is DevOps?}\n",
    "\n",
    "Developers, ops (and QA, and security, ....)\n",
    "collaborating on a pipeline\n",
    "\n",
    "\\end{frame}\n",
    "```"
   ]
  },
  {
   "cell_type": "markdown",
   "metadata": {},
   "source": [
    "### Why is DevOps good?"
   ]
  },
  {
   "cell_type": "markdown",
   "metadata": {},
   "source": [
    "```{=latex}\n",
    "\\begin{frame}\n",
    "\\frametitle{How and WhyDevOps}\n",
    "\n",
    "Reduce friction\\pause\n",
    "\n",
    "Not just technical solution\\pause\n",
    "\n",
    "Part of technical part: reduce differences between\n",
    "developer environment\n",
    "and\n",
    "production environment\n",
    "\n",
    "\\end{frame}\n",
    "```"
   ]
  },
  {
   "cell_type": "markdown",
   "metadata": {
    "jupyter": {
     "source_hidden": true
    }
   },
   "source": [
    "## Scope\n",
    "\n",
    "### Multi-cluster (beyond scope)\n",
    "\n",
    "### Database migration (beyond scope)\n",
    "\n",
    "### Stateful applications (beyond scope)\n",
    "\n",
    "### Advanced deployment (beyond scopre)\n",
    "\n",
    "## Software Development Lifecycle\n",
    "\n",
    "### What is an edit debug cycle?\n",
    "\n",
    "### Why edit-debug cycle latency matters"
   ]
  },
  {
   "cell_type": "markdown",
   "metadata": {},
   "source": [
    "## Kubernetes Application Architecture\n",
    "\n",
    "### Containers"
   ]
  },
  {
   "cell_type": "markdown",
   "metadata": {},
   "source": [
    "```{=latex}\n",
    "\\begin{frame}\n",
    "\\frametitle{Containers}\n",
    "\n",
    "\"Light weight VMs\"\\pause\n",
    "\n",
    "\"Heavy weight processes\"\n",
    "\n",
    "\\end{frame}\n",
    "```"
   ]
  },
  {
   "cell_type": "markdown",
   "metadata": {},
   "source": [
    "### Pods"
   ]
  },
  {
   "cell_type": "markdown",
   "metadata": {},
   "source": [
    "```{=latex}\n",
    "\\begin{frame}\n",
    "\\frametitle{Pods}\n",
    "\n",
    "Groups of containers\\pause\n",
    "\n",
    "Share network namespace\\pause\n",
    "\n",
    "Can share process namespace\\pause\n",
    "\n",
    "\\end{frame}\n",
    "```"
   ]
  },
  {
   "cell_type": "markdown",
   "metadata": {},
   "source": [
    "### Deployments"
   ]
  },
  {
   "cell_type": "markdown",
   "metadata": {},
   "source": [
    "```{=latex}\n",
    "\\begin{frame}\n",
    "\\frametitle{Deployment}\n",
    "\n",
    "Routable set of identity-less pods\n",
    "\n",
    "\\end{frame}\n",
    "```"
   ]
  },
  {
   "cell_type": "markdown",
   "metadata": {},
   "source": [
    "### Stateful Ses"
   ]
  },
  {
   "cell_type": "markdown",
   "metadata": {},
   "source": [
    "```{=latex}\n",
    "\\begin{frame}\n",
    "\\frametitle{StatefulSet}\n",
    "\n",
    "Set of identifiable pods\n",
    "\n",
    "\n",
    "\\end{frame}\n",
    "```"
   ]
  },
  {
   "cell_type": "markdown",
   "metadata": {},
   "source": [
    "## Environments\n",
    "\n",
    "### What is an environment?\n",
    "\n",
    "### Cross-talk\n",
    "\n",
    "### Regional Separation\n",
    "\n",
    "### Maturity Separation\n",
    "\n",
    "## Modern SDLC Caricature\n",
    "\n",
    "### Develop\n",
    "\n",
    "### Review\n",
    "\n",
    "### Merge\n",
    "\n",
    "### Deploy\n",
    "\n",
    "### No \"test\" stage\n",
    "\n",
    "## Kubernetes across environments\n",
    "\n",
    "### Why\n",
    "\n",
    "### Challenges\n",
    "\n",
    "### Lima\n",
    "\n",
    "### Minikube\n",
    "\n",
    "### Cloud\n",
    "\n",
    "## Customizing Kubernetes\n",
    "\n",
    "### Ad-hoc\n",
    "\n",
    "### Template\n",
    "\n",
    "### Kustomize\n",
    "\n",
    "### Helm\n",
    "\n",
    "### Operators\n",
    "\n",
    "### \n",
    "\n",
    "## Kubernetes Pods\n",
    "\n",
    "### What are pods?\n",
    "\n",
    "### Container namespaces\n",
    "\n",
    "### Interpod access\n",
    "\n",
    "## Kubernetes routing\n",
    "\n",
    "### Service\n",
    "\n",
    "### Headless service\n",
    "\n",
    "### Pod\n",
    "\n",
    "### StatefulSet\n",
    "\n",
    "## Updating Containers\n",
    "\n",
    "### SSH to Pod\n",
    "\n",
    "### Modifying files\n",
    "\n",
    "### Synchornizing files\n",
    "\n",
    "### Auto-restarting\n",
    "\n",
    "## Putting it all together\n",
    "\n",
    "### Build container\n",
    "\n",
    "### Configure Pod\n",
    "\n",
    "### Sync files\n",
    "\n",
    "### Update container\n",
    "\n",
    "### See results\n",
    "\n",
    "## Summary\n",
    "\n",
    "### K8s as a universal platform\n",
    "\n",
    "### K8s end-to-end"
   ]
  },
  {
   "cell_type": "markdown",
   "metadata": {},
   "source": [
    "```{=latex}\n",
    "\\end{document}\n",
    "```"
   ]
  }
 ],
 "metadata": {
  "kernelspec": {
   "display_name": "Python 3",
   "language": "python",
   "name": "python3"
  },
  "language_info": {
   "codemirror_mode": {
    "name": "ipython",
    "version": 3
   },
   "file_extension": ".py",
   "mimetype": "text/x-python",
   "name": "python",
   "nbconvert_exporter": "python",
   "pygments_lexer": "ipython3",
   "version": "3.9.0"
  }
 },
 "nbformat": 4,
 "nbformat_minor": 4
}
